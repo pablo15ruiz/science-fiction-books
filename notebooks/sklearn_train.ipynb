{
 "cells": [
  {
   "cell_type": "code",
   "execution_count": 29,
   "id": "c40699c2",
   "metadata": {},
   "outputs": [],
   "source": [
    "import pandas as pd\n",
    "\n",
    "from sklearn.pipeline import Pipeline\n",
    "from sklearn.feature_extraction.text import TfidfVectorizer\n",
    "from sklearn.multiclass import OneVsRestClassifier\n",
    "from sklearn.svm import LinearSVC\n",
    "from sklearn.model_selection import train_test_split\n",
    "from sklearn.metrics import accuracy_score"
   ]
  },
  {
   "cell_type": "code",
   "execution_count": 4,
   "id": "df8be5fe",
   "metadata": {},
   "outputs": [],
   "source": [
    "df = pd.read_csv('../data/science_fiction_books.csv')"
   ]
  },
  {
   "cell_type": "code",
   "execution_count": 27,
   "id": "a59e928d",
   "metadata": {},
   "outputs": [],
   "source": [
    "labels = df.columns[4:]"
   ]
  },
  {
   "cell_type": "code",
   "execution_count": 5,
   "id": "5e50bc8a",
   "metadata": {},
   "outputs": [],
   "source": [
    "model = Pipeline([\n",
    "    ('tfidf', TfidfVectorizer()),\n",
    "    ('clf', OneVsRestClassifier(LinearSVC()))\n",
    "])"
   ]
  },
  {
   "cell_type": "code",
   "execution_count": 13,
   "id": "9431aa5a",
   "metadata": {},
   "outputs": [],
   "source": [
    "train, test = train_test_split(df, random_state=0, test_size=0.2, shuffle=True)\n",
    "X_train = train.Description\n",
    "X_test = test.Description"
   ]
  },
  {
   "cell_type": "code",
   "execution_count": 33,
   "id": "dde01a30",
   "metadata": {},
   "outputs": [
    {
     "name": "stdout",
     "output_type": "stream",
     "text": [
      "Aliens accuracy is 0.9495412844036697\n",
      "Alternate History accuracy is 0.9261467889908257\n",
      "Alternate Universe accuracy is 0.9119266055045872\n",
      "Apocalyptic accuracy is 0.9412844036697248\n",
      "Cyberpunk accuracy is 0.9353211009174311\n",
      "Dystopia accuracy is 0.9229357798165138\n",
      "Hard accuracy is 0.9128440366972477\n",
      "Military accuracy is 0.9559633027522936\n",
      "Robots accuracy is 0.9362385321100918\n",
      "Space Opera accuracy is 0.9275229357798165\n",
      "Steampunk accuracy is 0.9458715596330275\n",
      "Time Travel accuracy is 0.9614678899082569\n"
     ]
    }
   ],
   "source": [
    "for label in labels:\n",
    "    model.fit(X_train, train[label])\n",
    "    pred = model.predict(X_test)\n",
    "    print(f'{label} accuracy is {accuracy_score(test[label], pred)}')"
   ]
  },
  {
   "cell_type": "code",
   "execution_count": 54,
   "id": "d2cde95d",
   "metadata": {},
   "outputs": [
    {
     "name": "stdout",
     "output_type": "stream",
     "text": [
      "Aliens                0\n",
      "Alternate History     0\n",
      "Alternate Universe    0\n",
      "Apocalyptic           0\n",
      "Cyberpunk             1\n",
      "Dystopia              0\n",
      "Hard                  0\n",
      "Military              0\n",
      "Robots                0\n",
      "Space Opera           0\n",
      "Steampunk             0\n",
      "Time Travel           0\n",
      "Name: 30, dtype: object Index(['Aliens'], dtype='object')\n"
     ]
    }
   ],
   "source": [
    "sample = df.iloc[30]\n",
    "pred = model.predict([sample.Description])\n",
    "print(sample[4:], labels[pred])"
   ]
  },
  {
   "cell_type": "code",
   "execution_count": 53,
   "id": "cb6833d4",
   "metadata": {},
   "outputs": [
    {
     "name": "stdout",
     "output_type": "stream",
     "text": [
      "Aliens                0\n",
      "Alternate History     0\n",
      "Alternate Universe    0\n",
      "Apocalyptic           0\n",
      "Cyberpunk             0\n",
      "Dystopia              0\n",
      "Hard                  0\n",
      "Military              1\n",
      "Robots                0\n",
      "Space Opera           0\n",
      "Steampunk             0\n",
      "Time Travel           0\n",
      "Name: 12, dtype: object Index(['Aliens'], dtype='object')\n"
     ]
    }
   ],
   "source": [
    "print(sample[4:], labels[pred])"
   ]
  }
 ],
 "metadata": {
  "kernelspec": {
   "display_name": "Python 3 (ipykernel)",
   "language": "python",
   "name": "python3"
  },
  "language_info": {
   "codemirror_mode": {
    "name": "ipython",
    "version": 3
   },
   "file_extension": ".py",
   "mimetype": "text/x-python",
   "name": "python",
   "nbconvert_exporter": "python",
   "pygments_lexer": "ipython3",
   "version": "3.9.7"
  }
 },
 "nbformat": 4,
 "nbformat_minor": 5
}
