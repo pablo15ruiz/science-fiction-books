{
 "cells": [
  {
   "cell_type": "code",
   "execution_count": 2,
   "id": "2d674565",
   "metadata": {},
   "outputs": [],
   "source": [
    "import string\n",
    "\n",
    "import pandas as pd\n",
    "import numpy as np\n",
    "\n",
    "import nltk\n",
    "from nltk import word_tokenize\n",
    "from nltk.corpus import stopwords\n",
    "from nltk.stem.porter import PorterStemmer"
   ]
  },
  {
   "cell_type": "code",
   "execution_count": 3,
   "id": "595dc0e0",
   "metadata": {},
   "outputs": [],
   "source": [
    "df = pd.read_csv('../data/science_fiction_books.csv')"
   ]
  },
  {
   "cell_type": "code",
   "execution_count": 5,
   "id": "f83134b3",
   "metadata": {},
   "outputs": [],
   "source": [
    "stop_words = stopwords.words('english')\n",
    "df_raw = df.copy(deep=True)\n",
    "for idx, row in df.iterrows():\n",
    "    text = row.Description\n",
    "    text = text.lower().translate(str.maketrans('', '', string.punctuation))\n",
    "    porter = PorterStemmer()\n",
    "    text = [porter.stem(word) for word in word_tokenize(text) if word not in stop_words]\n",
    "    text = ' '.join(text)\n",
    "    \n",
    "    df.at[idx, 'Description'] = text"
   ]
  },
  {
   "cell_type": "code",
   "execution_count": 6,
   "id": "59eab611",
   "metadata": {},
   "outputs": [],
   "source": [
    "df.to_csv('../data/science_fiction_books_bert.csv', index=False)"
   ]
  }
 ],
 "metadata": {
  "kernelspec": {
   "display_name": "Python 3 (ipykernel)",
   "language": "python",
   "name": "python3"
  },
  "language_info": {
   "codemirror_mode": {
    "name": "ipython",
    "version": 3
   },
   "file_extension": ".py",
   "mimetype": "text/x-python",
   "name": "python",
   "nbconvert_exporter": "python",
   "pygments_lexer": "ipython3",
   "version": "3.9.7"
  }
 },
 "nbformat": 4,
 "nbformat_minor": 5
}
