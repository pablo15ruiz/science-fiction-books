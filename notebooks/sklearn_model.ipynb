{
 "cells": [
  {
   "cell_type": "code",
   "execution_count": 160,
   "id": "c40699c2",
   "metadata": {},
   "outputs": [],
   "source": [
    "import pandas as pd\n",
    "\n",
    "import numpy as np\n",
    "\n",
    "from sklearn.pipeline import Pipeline\n",
    "from sklearn.feature_extraction.text import TfidfVectorizer\n",
    "from sklearn.multiclass import OneVsRestClassifier\n",
    "from sklearn.svm import LinearSVC\n",
    "from sklearn.model_selection import train_test_split\n",
    "from sklearn.metrics import accuracy_score"
   ]
  },
  {
   "cell_type": "code",
   "execution_count": 161,
   "id": "df8be5fe",
   "metadata": {},
   "outputs": [],
   "source": [
    "df = pd.read_csv('../data/science_fiction_books.csv')"
   ]
  },
  {
   "cell_type": "code",
   "execution_count": 162,
   "id": "a59e928d",
   "metadata": {},
   "outputs": [],
   "source": [
    "labels = df.columns[4:]"
   ]
  },
  {
   "cell_type": "code",
   "execution_count": 163,
   "id": "5e50bc8a",
   "metadata": {},
   "outputs": [],
   "source": [
    "model = Pipeline([\n",
    "    ('tfidf', TfidfVectorizer()),\n",
    "    ('clf', OneVsRestClassifier(LinearSVC()))\n",
    "])\n",
    "\n",
    "train, test = train_test_split(df, random_state=0, test_size=0.2, shuffle=True)\n",
    "X_train = train.Description\n",
    "X_test = test.Description"
   ]
  },
  {
   "cell_type": "code",
   "execution_count": 164,
   "id": "dde01a30",
   "metadata": {},
   "outputs": [
    {
     "data": {
      "text/plain": [
       "0.45"
      ]
     },
     "execution_count": 164,
     "metadata": {},
     "output_type": "execute_result"
    }
   ],
   "source": [
    "model.fit(X_train, train[labels])\n",
    "model.score(X_test, test[labels])"
   ]
  },
  {
   "cell_type": "code",
   "execution_count": 165,
   "id": "d2cde95d",
   "metadata": {},
   "outputs": [
    {
     "name": "stdout",
     "output_type": "stream",
     "text": [
      "['Time Travel'] ['Time Travel']\n"
     ]
    }
   ],
   "source": [
    "sample = df.iloc[np.random.randint(10900)]\n",
    "pred = model.predict([sample.Description])\n",
    "print(\n",
    "    list(labels[np.flatnonzero(sample[4:].to_numpy())]),\n",
    "    list(labels[np.flatnonzero(pred)])\n",
    ")"
   ]
  },
  {
   "cell_type": "code",
   "execution_count": null,
   "id": "a5d1cc6a",
   "metadata": {},
   "outputs": [],
   "source": []
  }
 ],
 "metadata": {
  "kernelspec": {
   "display_name": "Python 3 (ipykernel)",
   "language": "python",
   "name": "python3"
  },
  "language_info": {
   "codemirror_mode": {
    "name": "ipython",
    "version": 3
   },
   "file_extension": ".py",
   "mimetype": "text/x-python",
   "name": "python",
   "nbconvert_exporter": "python",
   "pygments_lexer": "ipython3",
   "version": "3.9.7"
  }
 },
 "nbformat": 4,
 "nbformat_minor": 5
}
