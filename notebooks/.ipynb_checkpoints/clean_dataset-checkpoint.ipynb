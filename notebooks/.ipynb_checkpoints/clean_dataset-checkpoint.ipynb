{
 "cells": [
  {
   "cell_type": "code",
   "execution_count": 1,
   "id": "bbc263d3",
   "metadata": {},
   "outputs": [],
   "source": [
    "import os\n",
    "\n",
    "import pandas as pd"
   ]
  },
  {
   "cell_type": "code",
   "execution_count": 2,
   "id": "76a7044b",
   "metadata": {},
   "outputs": [],
   "source": [
    "dfs = {}\n",
    "\n",
    "for filename in os.listdir('../data'):\n",
    "    genre = filename.removeprefix('sf_').removesuffix('.csv').replace('_', ' ').title()\n",
    "    dfs[genre] = pd.read_csv(f'../data/{filename}')\n",
    "    dfs[genre]['Genre'] = genre\n",
    "\n",
    "genre_names = list(dfs.keys())"
   ]
  },
  {
   "cell_type": "code",
   "execution_count": 3,
   "id": "e4e47263",
   "metadata": {},
   "outputs": [],
   "source": [
    "raw_df = pd.concat(dfs.values(), ignore_index=True)"
   ]
  },
  {
   "cell_type": "code",
   "execution_count": 4,
   "id": "63f65625",
   "metadata": {},
   "outputs": [],
   "source": [
    "clean_df = raw_df.copy(deep=True)\n",
    "clean_df.dropna(inplace=True)\n",
    "clean_df = clean_df[clean_df['Edition_Language'].isin(['English', 'None'])]\n",
    "clean_df[genre_names] = 0\n",
    "\n",
    "for idx, row in clean_df.iterrows():\n",
    "    clean_df.loc[idx, row['Genre']] = 1\n",
    "\n",
    "clean_df = clean_df.groupby('url', as_index=False).max()\n",
    "\n",
    "clean_df.rename(\n",
    "    columns={\n",
    "        'Book_Title': 'Title',\n",
    "        'Author_Name': 'Author',\n",
    "        'Year_published': 'Year',\n",
    "        'Book_Description': 'Description'\n",
    "    },\n",
    "    inplace=True\n",
    ")\n",
    "clean_df = clean_df[[\n",
    "    'Title',\n",
    "    'Author',\n",
    "    'Year',\n",
    "    'Description',\n",
    "    *genre_names\n",
    "]]"
   ]
  },
  {
   "cell_type": "code",
   "execution_count": 5,
   "id": "5841edb8",
   "metadata": {},
   "outputs": [
    {
     "data": {
      "text/plain": [
       "Title                     object\n",
       "Title                     object\n",
       "Author                    object\n",
       "Author                    object\n",
       "Year                     float64\n",
       "Year                     float64\n",
       "Description               object\n",
       "Description               object\n",
       "Science Fiction Books      int64\n",
       "Aliens                     int64\n",
       "Alternate History          int64\n",
       "Alternate Universe         int64\n",
       "Apocalyptic                int64\n",
       "Cyberpunk                  int64\n",
       "Dystopia                   int64\n",
       "Hard                       int64\n",
       "Military                   int64\n",
       "Robots                     int64\n",
       "Space Opera                int64\n",
       "Steampunk                  int64\n",
       "Time Travel                int64\n",
       "dtype: object"
      ]
     },
     "execution_count": 5,
     "metadata": {},
     "output_type": "execute_result"
    }
   ],
   "source": [
    "clean_df.dtypes"
   ]
  },
  {
   "cell_type": "code",
   "execution_count": 6,
   "id": "ae2a92f5",
   "metadata": {},
   "outputs": [],
   "source": [
    "clean_df.to_csv('../data/science_fiction_books.csv', index=False)"
   ]
  },
  {
   "cell_type": "code",
   "execution_count": null,
   "id": "e4b843cc",
   "metadata": {},
   "outputs": [],
   "source": []
  }
 ],
 "metadata": {
  "kernelspec": {
   "display_name": "Python 3 (ipykernel)",
   "language": "python",
   "name": "python3"
  },
  "language_info": {
   "codemirror_mode": {
    "name": "ipython",
    "version": 3
   },
   "file_extension": ".py",
   "mimetype": "text/x-python",
   "name": "python",
   "nbconvert_exporter": "python",
   "pygments_lexer": "ipython3",
   "version": "3.9.7"
  }
 },
 "nbformat": 4,
 "nbformat_minor": 5
}
